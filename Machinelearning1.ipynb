{
 "cells": [
  {
   "cell_type": "code",
   "execution_count": 4,
   "id": "cebda6be-2598-4806-b787-2ea5c3f84fe6",
   "metadata": {},
   "outputs": [
    {
     "data": {
      "text/html": [
       "<div>\n",
       "<style scoped>\n",
       "    .dataframe tbody tr th:only-of-type {\n",
       "        vertical-align: middle;\n",
       "    }\n",
       "\n",
       "    .dataframe tbody tr th {\n",
       "        vertical-align: top;\n",
       "    }\n",
       "\n",
       "    .dataframe thead th {\n",
       "        text-align: right;\n",
       "    }\n",
       "</style>\n",
       "<table border=\"1\" class=\"dataframe\">\n",
       "  <thead>\n",
       "    <tr style=\"text-align: right;\">\n",
       "      <th></th>\n",
       "      <th>channel</th>\n",
       "      <th>title</th>\n",
       "      <th>published_at</th>\n",
       "      <th>duration</th>\n",
       "      <th>view_count</th>\n",
       "      <th>like_count</th>\n",
       "      <th>comment_count</th>\n",
       "    </tr>\n",
       "  </thead>\n",
       "  <tbody>\n",
       "    <tr>\n",
       "      <th>0</th>\n",
       "      <td>Zee Music Company</td>\n",
       "      <td>Mile Ho Tum - Reprise Version | Neha Kakkar | ...</td>\n",
       "      <td>2016-07-27T12:25:03Z</td>\n",
       "      <td>PT4M1S</td>\n",
       "      <td>1306078283</td>\n",
       "      <td>7833023.0</td>\n",
       "      <td>383935.0</td>\n",
       "    </tr>\n",
       "    <tr>\n",
       "      <th>1</th>\n",
       "      <td>Zee Music Company</td>\n",
       "      <td>Kala Chashma | Baar Baar Dekho | Sidharth M Ka...</td>\n",
       "      <td>2016-07-27T04:28:59Z</td>\n",
       "      <td>PT2M54S</td>\n",
       "      <td>955890603</td>\n",
       "      <td>3398338.0</td>\n",
       "      <td>68632.0</td>\n",
       "    </tr>\n",
       "    <tr>\n",
       "      <th>2</th>\n",
       "      <td>Zee Music Company</td>\n",
       "      <td>Phir Bhi Tumko Chaahunga - Full Song | Arijit ...</td>\n",
       "      <td>2017-07-06T13:48:11Z</td>\n",
       "      <td>PT6M2S</td>\n",
       "      <td>944312202</td>\n",
       "      <td>5155964.0</td>\n",
       "      <td>195383.0</td>\n",
       "    </tr>\n",
       "    <tr>\n",
       "      <th>3</th>\n",
       "      <td>Zee Music Company</td>\n",
       "      <td>Jaha Tum Rahoge | Maheruh | Amit Dolawat &amp; Dri...</td>\n",
       "      <td>2017-11-02T10:21:42Z</td>\n",
       "      <td>PT5M22S</td>\n",
       "      <td>887911122</td>\n",
       "      <td>1484635.0</td>\n",
       "      <td>61045.0</td>\n",
       "    </tr>\n",
       "    <tr>\n",
       "      <th>4</th>\n",
       "      <td>Zee Music Company</td>\n",
       "      <td>Laila Main Laila | Raees | Shah Rukh Khan | Su...</td>\n",
       "      <td>2016-12-21T12:29:15Z</td>\n",
       "      <td>PT2M41S</td>\n",
       "      <td>796425443</td>\n",
       "      <td>3002659.0</td>\n",
       "      <td>74340.0</td>\n",
       "    </tr>\n",
       "    <tr>\n",
       "      <th>...</th>\n",
       "      <td>...</td>\n",
       "      <td>...</td>\n",
       "      <td>...</td>\n",
       "      <td>...</td>\n",
       "      <td>...</td>\n",
       "      <td>...</td>\n",
       "      <td>...</td>\n",
       "    </tr>\n",
       "    <tr>\n",
       "      <th>569</th>\n",
       "      <td>Zee Music Company</td>\n",
       "      <td>Teri Chahat Tanpura Version - Nikhita Gandhi x...</td>\n",
       "      <td>2024-01-04T10:30:24Z</td>\n",
       "      <td>PT4M31S</td>\n",
       "      <td>6845</td>\n",
       "      <td>265.0</td>\n",
       "      <td>36.0</td>\n",
       "    </tr>\n",
       "    <tr>\n",
       "      <th>570</th>\n",
       "      <td>Zee Music Company</td>\n",
       "      <td>#OMeriLaila #LailaMajnu #TriptiDimri #AtifAsla...</td>\n",
       "      <td>2024-01-04T11:39:37Z</td>\n",
       "      <td>PT57S</td>\n",
       "      <td>4718</td>\n",
       "      <td>557.0</td>\n",
       "      <td>6.0</td>\n",
       "    </tr>\n",
       "    <tr>\n",
       "      <th>571</th>\n",
       "      <td>Zee Music Company</td>\n",
       "      <td>Mohabbatein Shukriya - Full Video | Pippa | Is...</td>\n",
       "      <td>2024-01-04T11:00:06Z</td>\n",
       "      <td>PT3M45S</td>\n",
       "      <td>3272</td>\n",
       "      <td>145.0</td>\n",
       "      <td>34.0</td>\n",
       "    </tr>\n",
       "    <tr>\n",
       "      <th>572</th>\n",
       "      <td>Zee Music Company</td>\n",
       "      <td>#KoochNaKarin #LoadWedding #FahadMustafa #Mehw...</td>\n",
       "      <td>2024-01-04T12:50:40Z</td>\n",
       "      <td>PT1M1S</td>\n",
       "      <td>3044</td>\n",
       "      <td>297.0</td>\n",
       "      <td>3.0</td>\n",
       "    </tr>\n",
       "    <tr>\n",
       "      <th>573</th>\n",
       "      <td>Zee Music Company</td>\n",
       "      <td>Jaan Da (Rab Di Dua) | Tejas | Kangana Ranaut ...</td>\n",
       "      <td>2024-01-04T12:30:33Z</td>\n",
       "      <td>PT4M40S</td>\n",
       "      <td>1758</td>\n",
       "      <td>89.0</td>\n",
       "      <td>20.0</td>\n",
       "    </tr>\n",
       "  </tbody>\n",
       "</table>\n",
       "<p>574 rows × 7 columns</p>\n",
       "</div>"
      ],
      "text/plain": [
       "               channel                                              title  \\\n",
       "0    Zee Music Company  Mile Ho Tum - Reprise Version | Neha Kakkar | ...   \n",
       "1    Zee Music Company  Kala Chashma | Baar Baar Dekho | Sidharth M Ka...   \n",
       "2    Zee Music Company  Phir Bhi Tumko Chaahunga - Full Song | Arijit ...   \n",
       "3    Zee Music Company  Jaha Tum Rahoge | Maheruh | Amit Dolawat & Dri...   \n",
       "4    Zee Music Company  Laila Main Laila | Raees | Shah Rukh Khan | Su...   \n",
       "..                 ...                                                ...   \n",
       "569  Zee Music Company  Teri Chahat Tanpura Version - Nikhita Gandhi x...   \n",
       "570  Zee Music Company  #OMeriLaila #LailaMajnu #TriptiDimri #AtifAsla...   \n",
       "571  Zee Music Company  Mohabbatein Shukriya - Full Video | Pippa | Is...   \n",
       "572  Zee Music Company  #KoochNaKarin #LoadWedding #FahadMustafa #Mehw...   \n",
       "573  Zee Music Company  Jaan Da (Rab Di Dua) | Tejas | Kangana Ranaut ...   \n",
       "\n",
       "             published_at duration  view_count  like_count  comment_count  \n",
       "0    2016-07-27T12:25:03Z   PT4M1S  1306078283   7833023.0       383935.0  \n",
       "1    2016-07-27T04:28:59Z  PT2M54S   955890603   3398338.0        68632.0  \n",
       "2    2017-07-06T13:48:11Z   PT6M2S   944312202   5155964.0       195383.0  \n",
       "3    2017-11-02T10:21:42Z  PT5M22S   887911122   1484635.0        61045.0  \n",
       "4    2016-12-21T12:29:15Z  PT2M41S   796425443   3002659.0        74340.0  \n",
       "..                    ...      ...         ...         ...            ...  \n",
       "569  2024-01-04T10:30:24Z  PT4M31S        6845       265.0           36.0  \n",
       "570  2024-01-04T11:39:37Z    PT57S        4718       557.0            6.0  \n",
       "571  2024-01-04T11:00:06Z  PT3M45S        3272       145.0           34.0  \n",
       "572  2024-01-04T12:50:40Z   PT1M1S        3044       297.0            3.0  \n",
       "573  2024-01-04T12:30:33Z  PT4M40S        1758        89.0           20.0  \n",
       "\n",
       "[574 rows x 7 columns]"
      ]
     },
     "execution_count": 4,
     "metadata": {},
     "output_type": "execute_result"
    }
   ],
   "source": [
    "%matplotlib inline\n",
    "import numpy as np\n",
    "import pandas as pd\n",
    "import matplotlib.pyplot as plt\n",
    "import seaborn as sns\n",
    "import sklearn\n",
    "dataset=pd.read_csv(r\"C:\\Users\\harsh\\Downloads\\zeemusiccompany_top_videos1.csv\")\n",
    "df = pd.DataFrame(dataset)\n",
    "df\n",
    "\n"
   ]
  },
  {
   "cell_type": "code",
   "execution_count": 15,
   "id": "188f0d77-be57-4f3e-b4ce-c1b7bad86153",
   "metadata": {},
   "outputs": [
    {
     "ename": "AttributeError",
     "evalue": "'function' object has no attribute 'shape'",
     "output_type": "error",
     "traceback": [
      "\u001b[1;31m---------------------------------------------------------------------------\u001b[0m",
      "\u001b[1;31mAttributeError\u001b[0m                            Traceback (most recent call last)",
      "Cell \u001b[1;32mIn[15], line 1\u001b[0m\n\u001b[1;32m----> 1\u001b[0m \u001b[38;5;28mprint\u001b[39m(\u001b[38;5;124m\"\u001b[39m\u001b[38;5;124mBefore:\u001b[39m\u001b[38;5;124m\"\u001b[39m,\u001b[43mdf1\u001b[49m\u001b[38;5;241;43m.\u001b[39;49m\u001b[43mshape\u001b[49m)\n",
      "\u001b[1;31mAttributeError\u001b[0m: 'function' object has no attribute 'shape'"
     ]
    }
   ],
   "source": [
    "print(\"Before:\",df1.shape)"
   ]
  },
  {
   "cell_type": "code",
   "execution_count": 5,
   "id": "3582467d-2a27-42ef-9ba8-f078147f7e15",
   "metadata": {},
   "outputs": [
    {
     "data": {
      "text/plain": [
       "channel          0\n",
       "title            0\n",
       "published_at     0\n",
       "duration         0\n",
       "view_count       0\n",
       "like_count       3\n",
       "comment_count    1\n",
       "dtype: int64"
      ]
     },
     "execution_count": 5,
     "metadata": {},
     "output_type": "execute_result"
    }
   ],
   "source": [
    "df.isnull().sum()"
   ]
  },
  {
   "cell_type": "code",
   "execution_count": 16,
   "id": "ce5d06d5-5bea-46cf-b1e2-6359a9764435",
   "metadata": {},
   "outputs": [],
   "source": [
    "df1=df.copy()"
   ]
  },
  {
   "cell_type": "code",
   "execution_count": 17,
   "id": "bb023e8c-596e-42f4-8039-e69886a6b6c6",
   "metadata": {},
   "outputs": [
    {
     "name": "stdout",
     "output_type": "stream",
     "text": [
      "Before: (574, 7)\n"
     ]
    }
   ],
   "source": [
    "print(\"Before:\",df1.shape)"
   ]
  },
  {
   "cell_type": "code",
   "execution_count": 18,
   "id": "880c95a4-3b37-4129-b37c-b3d2b6748c36",
   "metadata": {},
   "outputs": [],
   "source": [
    "df1.dropna(inplace=True)"
   ]
  },
  {
   "cell_type": "code",
   "execution_count": 19,
   "id": "4e3997ad-80b5-429f-bb86-09156b9d62b9",
   "metadata": {},
   "outputs": [
    {
     "name": "stdout",
     "output_type": "stream",
     "text": [
      "After: (570, 7)\n"
     ]
    }
   ],
   "source": [
    "print(\"After:\",df1.shape)"
   ]
  },
  {
   "cell_type": "code",
   "execution_count": 13,
   "id": "8533e231-1b0e-43e8-a298-5fb9fa06166f",
   "metadata": {},
   "outputs": [],
   "source": [
    "df2 = df.copy()"
   ]
  },
  {
   "cell_type": "code",
   "execution_count": 14,
   "id": "b285dd19-ee14-44fa-9fbb-b0844b5df9df",
   "metadata": {},
   "outputs": [
    {
     "name": "stdout",
     "output_type": "stream",
     "text": [
      "channel          0\n",
      "title            0\n",
      "published_at     0\n",
      "duration         0\n",
      "view_count       0\n",
      "like_count       0\n",
      "comment_count    0\n",
      "dtype: int64\n"
     ]
    }
   ],
   "source": [
    "# Select only numeric columns\n",
    "numeric_columns = df2.select_dtypes(include='number').columns\n",
    "\n",
    "# Fill missing values with the mean of each numeric column\n",
    "df2[numeric_columns] = df2[numeric_columns].fillna(df2[numeric_columns].mean())\n",
    "\n",
    "# count the number of NaN values in each column\n",
    "print(df2.isnull().sum())\n"
   ]
  },
  {
   "cell_type": "code",
   "execution_count": 72,
   "id": "ab752a00-2112-4b18-ade3-347506e52721",
   "metadata": {},
   "outputs": [],
   "source": [
    "df3 = df.copy()"
   ]
  },
  {
   "cell_type": "code",
   "execution_count": 73,
   "id": "31b769de-39ac-4b20-869c-903e27a84c29",
   "metadata": {},
   "outputs": [
    {
     "name": "stdout",
     "output_type": "stream",
     "text": [
      "<class 'pandas.core.frame.DataFrame'>\n",
      "channel          0\n",
      "title            0\n",
      "published_at     0\n",
      "duration         0\n",
      "view_count       0\n",
      "like_count       0\n",
      "comment_count    0\n",
      "dtype: int64\n"
     ]
    }
   ],
   "source": [
    "# Check the type of df to ensure it is a DataFrame\n",
    "print(type(df3))\n",
    "\n",
    "# Identify numeric columns\n",
    "numeric_columns = df3.select_dtypes(include='number').columns\n",
    "\n",
    "# Replace NaN values with the mean for numeric columns using the replace method\n",
    "df3[numeric_columns] = df3[numeric_columns].replace(to_replace=np.nan, value=df3[numeric_columns].mean())\n",
    "\n",
    "# Identify non-numeric columns\n",
    "non_numeric_columns = df3.select_dtypes(exclude='number').columns\n",
    "\n",
    "# For non-numeric columns, you may choose a different strategy, such as dropping them or filling with a specific value\n",
    "# For example, filling non-numeric columns with a placeholder value (e.g., 'NA')\n",
    "df3[non_numeric_columns] = df3[non_numeric_columns].fillna('NA')\n",
    "\n",
    "# Count the number of NaN values in each column\n",
    "print(df3.isnull().sum())\n"
   ]
  },
  {
   "cell_type": "code",
   "execution_count": 75,
   "id": "4eaf15d2-cbbc-467d-90dc-dabc0c6522ee",
   "metadata": {},
   "outputs": [],
   "source": [
    "df4=df.copy()"
   ]
  },
  {
   "cell_type": "code",
   "execution_count": 76,
   "id": "9acdfe12-c989-4f3f-894f-0dc98da3779a",
   "metadata": {},
   "outputs": [
    {
     "name": "stdout",
     "output_type": "stream",
     "text": [
      "channel          0\n",
      "title            0\n",
      "published_at     0\n",
      "duration         0\n",
      "view_count       0\n",
      "like_count       0\n",
      "comment_count    0\n",
      "dtype: int64\n"
     ]
    },
    {
     "name": "stderr",
     "output_type": "stream",
     "text": [
      "C:\\Users\\harsh\\AppData\\Local\\Temp\\ipykernel_9880\\3047267056.py:1: FutureWarning: DataFrame.interpolate with object dtype is deprecated and will raise in a future version. Call obj.infer_objects(copy=False) before interpolating instead.\n",
      "  df4.interpolate(method='linear')\n"
     ]
    }
   ],
   "source": [
    "df4.interpolate(method='linear')\n",
    "print(df3.isnull().sum())"
   ]
  },
  {
   "cell_type": "code",
   "execution_count": null,
   "id": "ef79374b-b7ed-4b2f-97cf-b54363281b00",
   "metadata": {},
   "outputs": [],
   "source": []
  }
 ],
 "metadata": {
  "kernelspec": {
   "display_name": "Python 3 (ipykernel)",
   "language": "python",
   "name": "python3"
  },
  "language_info": {
   "codemirror_mode": {
    "name": "ipython",
    "version": 3
   },
   "file_extension": ".py",
   "mimetype": "text/x-python",
   "name": "python",
   "nbconvert_exporter": "python",
   "pygments_lexer": "ipython3",
   "version": "3.11.5"
  }
 },
 "nbformat": 4,
 "nbformat_minor": 5
}
